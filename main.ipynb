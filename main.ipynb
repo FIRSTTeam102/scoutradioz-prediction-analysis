{
 "cells": [
  {
   "cell_type": "code",
   "execution_count": 1,
   "metadata": {},
   "outputs": [],
   "source": [
    "import numpy as np\n",
    "import pandas as pd\n",
    "import matplotlib as mpl\n",
    "import matplotlib.pyplot as plt\n",
    "import math\n",
    "import scipy.stats\n",
    "import tbapy\n",
    "\n",
    "tba = tbapy.TBA('b6p0KPExEdkWjOcCyu8araEQQDfNn66RXCQVQdex4H1xH3yLlO8wwSd0iHzCi0FG')"
   ]
  },
  {
   "cell_type": "code",
   "execution_count": 2,
   "metadata": {},
   "outputs": [],
   "source": [
    "def calc_ema(data: np.ndarray, alpha: float) -> float:\n",
    "    if len(data) == 1:\n",
    "        return data[0]\n",
    "    \n",
    "    return alpha * data[len(data)-1] + (1 - alpha) * calc_ema(np.resize(data, len(data)-1), alpha)"
   ]
  },
  {
   "cell_type": "code",
   "execution_count": 3,
   "metadata": {},
   "outputs": [],
   "source": [
    "team_data = pd.DataFrame({'team_key': pd.Series(dtype=str), 'contributed_points': pd.Series(dtype=np.ndarray([], dtype=float)), 'match_numbers': pd.Series(dtype=np.ndarray([], dtype=float))})\n",
    "team_data = team_data.set_index(\"team_key\")\n",
    "\n",
    "match_csv = pd.read_csv('-.csv')\n",
    "\n",
    "for index, row in match_csv.iterrows():\n",
    "    if not row.team_key in team_data.index:\n",
    "        team_data.loc[row.team_key] = [np.array([], dtype=float), np.array([], dtype=int)]\n",
    "    \n",
    "    team = team_data.loc[row.team_key]\n",
    "    team.contributed_points = np.append(team.contributed_points, int(row.contributedPoints))\n",
    "    team.match_numbers = np.append(team.match_numbers, int(row.match_number))\n",
    "\n"
   ]
  },
  {
   "cell_type": "code",
   "execution_count": 4,
   "metadata": {},
   "outputs": [],
   "source": [
    "match_data = pd.DataFrame({'match_number': pd.Series(dtype=int), 'red_alliance': pd.Series(dtype=np.ndarray([], dtype=str)), 'blue_alliance': pd.Series(dtype=np.ndarray([], dtype=str))})\n",
    "match_data = match_data.set_index('match_number')\n",
    "\n",
    "for index, row in match_csv.iterrows():\n",
    "    if not row.match_number in match_data.index:\n",
    "        match_data.loc[row.match_number] = [np.array([], dtype=str), np.array([], dtype=str)]\n",
    "    \n",
    "    match = match_data.loc[row.match_number]\n",
    "    match[f\"{row.alliance}_alliance\"] = np.append(match[f\"{row.alliance}_alliance\"], row.team_key)\n"
   ]
  },
  {
   "cell_type": "code",
   "execution_count": 5,
   "metadata": {},
   "outputs": [],
   "source": [
    "def get_match_prediction(match_num: int, alpha: float):\n",
    "    if not match_num in match_data.index:\n",
    "        return ['', -1]\n",
    "    \n",
    "    red_alliance = match_data.loc[match_num].red_alliance\n",
    "    blue_alliance = match_data.loc[match_num].blue_alliance\n",
    "\n",
    "    red_avgs = np.array([])\n",
    "    red_stds = np.array([])\n",
    "    blue_avgs = np.array([])\n",
    "    blue_stds = np.array([])\n",
    "\n",
    "    for key in red_alliance:\n",
    "        team = team_data.loc[key]\n",
    "\n",
    "        matches_played = len(team.match_numbers[team.match_numbers < match_num])\n",
    "\n",
    "        if matches_played < 2:\n",
    "            return\n",
    "\n",
    "        points = np.resize(team.contributed_points, matches_played)\n",
    "\n",
    "        red_avgs = np.append(red_avgs, calc_ema(points, alpha))\n",
    "        red_stds = np.append(red_stds, points.std(ddof=1))\n",
    "    \n",
    "    for key in blue_alliance:\n",
    "        team = team_data.loc[key]\n",
    "\n",
    "        matches_played = len(team.match_numbers[team.match_numbers < match_num])\n",
    "\n",
    "        if matches_played <= 2:\n",
    "            return\n",
    "\n",
    "        points = np.resize(team.contributed_points, matches_played)\n",
    "\n",
    "        blue_avgs = np.append(blue_avgs, calc_ema(points, alpha))\n",
    "        blue_stds = np.append(blue_stds, points.std(ddof=1))\n",
    "\n",
    "    z_score = (red_avgs.sum() - blue_avgs.sum()) / math.hypot(red_stds.sum(), blue_stds.sum())\n",
    "    p_val = scipy.stats.norm.cdf(z_score)\n",
    "\n",
    "    if p_val < 0.5:\n",
    "        return ['blue', 1-p_val]\n",
    "    \n",
    "    return ['red', p_val]"
   ]
  },
  {
   "cell_type": "code",
   "execution_count": 6,
   "metadata": {},
   "outputs": [
    {
     "data": {
      "text/html": [
       "<div>\n",
       "<style scoped>\n",
       "    .dataframe tbody tr th:only-of-type {\n",
       "        vertical-align: middle;\n",
       "    }\n",
       "\n",
       "    .dataframe tbody tr th {\n",
       "        vertical-align: top;\n",
       "    }\n",
       "\n",
       "    .dataframe thead th {\n",
       "        text-align: right;\n",
       "    }\n",
       "</style>\n",
       "<table border=\"1\" class=\"dataframe\">\n",
       "  <thead>\n",
       "    <tr style=\"text-align: right;\">\n",
       "      <th></th>\n",
       "      <th>winner</th>\n",
       "    </tr>\n",
       "    <tr>\n",
       "      <th>match_number</th>\n",
       "      <th></th>\n",
       "    </tr>\n",
       "  </thead>\n",
       "  <tbody>\n",
       "    <tr>\n",
       "      <th>1</th>\n",
       "      <td>red</td>\n",
       "    </tr>\n",
       "    <tr>\n",
       "      <th>2</th>\n",
       "      <td>red</td>\n",
       "    </tr>\n",
       "    <tr>\n",
       "      <th>3</th>\n",
       "      <td>red</td>\n",
       "    </tr>\n",
       "    <tr>\n",
       "      <th>4</th>\n",
       "      <td>blue</td>\n",
       "    </tr>\n",
       "    <tr>\n",
       "      <th>5</th>\n",
       "      <td>red</td>\n",
       "    </tr>\n",
       "    <tr>\n",
       "      <th>...</th>\n",
       "      <td>...</td>\n",
       "    </tr>\n",
       "    <tr>\n",
       "      <th>116</th>\n",
       "      <td>red</td>\n",
       "    </tr>\n",
       "    <tr>\n",
       "      <th>117</th>\n",
       "      <td>red</td>\n",
       "    </tr>\n",
       "    <tr>\n",
       "      <th>118</th>\n",
       "      <td>red</td>\n",
       "    </tr>\n",
       "    <tr>\n",
       "      <th>119</th>\n",
       "      <td>red</td>\n",
       "    </tr>\n",
       "    <tr>\n",
       "      <th>120</th>\n",
       "      <td>red</td>\n",
       "    </tr>\n",
       "  </tbody>\n",
       "</table>\n",
       "<p>120 rows × 1 columns</p>\n",
       "</div>"
      ],
      "text/plain": [
       "             winner\n",
       "match_number       \n",
       "1               red\n",
       "2               red\n",
       "3               red\n",
       "4              blue\n",
       "5               red\n",
       "...             ...\n",
       "116             red\n",
       "117             red\n",
       "118             red\n",
       "119             red\n",
       "120             red\n",
       "\n",
       "[120 rows x 1 columns]"
      ]
     },
     "execution_count": 6,
     "metadata": {},
     "output_type": "execute_result"
    }
   ],
   "source": [
    "tba_winners = pd.DataFrame({'match_number': pd.Series(dtype=int), 'winner': pd.Series(dtype=str)})\n",
    "tba_winners = tba_winners.set_index('match_number')\n",
    "\n",
    "for i in range(1, len(match_data.index)+1):\n",
    "    tba_winners.loc[i] = [tba.match(key=f'{match_csv.iloc[1].event_key}_qm{i}', simple=True).winning_alliance]\n",
    "\n",
    "tba_winners"
   ]
  },
  {
   "cell_type": "code",
   "execution_count": 7,
   "metadata": {},
   "outputs": [],
   "source": [
    "def get_prediction_accuracy(threshold: float = 0.0, alpha: float = 0.4):\n",
    "    results = np.array([])\n",
    "\n",
    "    for i in range(1, len(match_data.index)+1):\n",
    "        check = True\n",
    "        prediction = get_match_prediction(i, alpha)\n",
    "\n",
    "        if prediction:\n",
    "            check = tba_winners.loc[i].winner == prediction[0] \n",
    "            \n",
    "            if prediction[1] >= threshold:\n",
    "                results = np.append(results, check)\n",
    "    \n",
    "    return np.average(results)"
   ]
  },
  {
   "cell_type": "code",
   "execution_count": 11,
   "metadata": {},
   "outputs": [
    {
     "name": "stderr",
     "output_type": "stream",
     "text": [
      "c:\\Users\\Team102\\AppData\\Local\\Programs\\Python\\Python310\\lib\\site-packages\\numpy\\lib\\function_base.py:518: RuntimeWarning: Mean of empty slice.\n",
      "  avg = a.mean(axis, **keepdims_kw)\n",
      "c:\\Users\\Team102\\AppData\\Local\\Programs\\Python\\Python310\\lib\\site-packages\\numpy\\core\\_methods.py:190: RuntimeWarning: invalid value encountered in double_scalars\n",
      "  ret = ret.dtype.type(ret / rcount)\n"
     ]
    },
    {
     "data": {
      "image/png": "[encoded data removed]",
      "text/plain": [
       "<Figure size 432x288 with 1 Axes>"
      ]
     },
     "metadata": {},
     "output_type": "display_data"
    }
   ],
   "source": [
    "prediction_accuracy = pd.DataFrame({'threshold': pd.Series(dtype=float), 'accuracy': pd.Series(dtype=float)})\n",
    "\n",
    "for i in range(0, 51):\n",
    "    thresh = 0.50 + (i * 0.01)\n",
    "\n",
    "    prediction_accuracy.loc[i] = [thresh, get_prediction_accuracy(thresh)]\n",
    "\n",
    "fig, ax = plt.subplots()\n",
    "\n",
    "ax.plot(prediction_accuracy.threshold, prediction_accuracy.accuracy)\n",
    "\n",
    "ax.set(xticks=np.arange(0.5, 1.01, 0.05), yticks=np.arange(0.6, 1.01, 0.05), xlabel='Confidence Threshold', ylabel='Prediction Accuracy', title=\"\")\n",
    "\n",
    "fig.set_facecolor('xkcd:white')\n",
    "\n",
    "plt.show()"
   ]
  },
  {
   "cell_type": "code",
   "execution_count": 13,
   "metadata": {},
   "outputs": [
    {
     "data": {
      "image/png": "[encoded data removed]",
      "text/plain": [
       "<Figure size 432x288 with 1 Axes>"
      ]
     },
     "metadata": {},
     "output_type": "display_data"
    }
   ],
   "source": [
    "prediction_accuracy = pd.DataFrame({'alpha value': pd.Series(dtype=float), 'accuracy': pd.Series(dtype=float)})\n",
    "\n",
    "def alpha_accuracy(df: pd.DataFrame, threshold: float):\n",
    "    for i in range(1, 20):\n",
    "        alph = i * 0.05\n",
    "\n",
    "        df.loc[i] = [alph, get_prediction_accuracy(threshold, alph)]\n",
    "\n",
    "fig, ax = plt.subplots()\n",
    "\n",
    "for i in range(0, 4):\n",
    "    thresh = 0.1 * i + 0.5\n",
    "\n",
    "    alpha_accuracy(prediction_accuracy, thresh)\n",
    "\n",
    "    ax.plot(prediction_accuracy['alpha value'], prediction_accuracy.accuracy, label=str(thresh))\n",
    "\n",
    "ax.set(xticks=np.arange(0.1, 1.0, 0.1), yticks=np.arange(0.6, 1.01, 0.05), xlabel='Alpha Value', ylabel='Prediction Accuracy', title=f\"({len(team_data.index)} teams, {len(match_data.index)} matches)\")\n",
    "ax.legend(title='Confidence Threshold')\n",
    "\n",
    "fig.set_facecolor('xkcd:white')\n",
    "\n",
    "plt.show()\n"
   ]
  }
 ],
 "metadata": {
  "kernelspec": {
   "display_name": "Python 3.10.5 64-bit",
   "language": "python",
   "name": "python3"
  },
  "language_info": {
   "codemirror_mode": {
    "name": "ipython",
    "version": 3
   },
   "file_extension": ".py",
   "mimetype": "text/x-python",
   "name": "python",
   "nbconvert_exporter": "python",
   "pygments_lexer": "ipython3",
   "version": "3.10.5"
  },
  "orig_nbformat": 4,
  "vscode": {
   "interpreter": {
    "hash": "f7b03a9bbda283f79f90f8cf96e0fafb3d72ec0c30409e63fddd1bf67ba445e8"
   }
  }
 },
 "nbformat": 4,
 "nbformat_minor": 2
}
